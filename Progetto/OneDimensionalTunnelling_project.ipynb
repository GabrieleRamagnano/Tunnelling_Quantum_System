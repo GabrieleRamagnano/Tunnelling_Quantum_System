{
 "cells": [
  {
   "cell_type": "markdown",
   "id": "0bfef24f",
   "metadata": {},
   "source": [
    "###### Progetto di Simulazione Numerica\n",
    "###### Professore Andrea Vicerè\n",
    "###### Studente: Gabriele Ramagnano, n°matricola = 315439"
   ]
  },
  {
   "cell_type": "markdown",
   "id": "37f46860",
   "metadata": {},
   "source": [
    "# Tunnelling in a quantum system\n",
    "\n",
    "The assigned task consists in simulating the trend of a wave function $\\psi(\\mathbf{x}, t)$ which describes the state of a particle in the quantum world. The quantity $\\psi(\\mathbf{x}, t)$ is actually a *complex* function, having both a real and an imaginary part.\n",
    "\n",
    "The calculation of the time evolution of the function $\\psi(\\mathbf{x}, t)$ is made possible thanks to the use of the Schrödinger equation\n",
    "\n",
    "\\begin{equation}\n",
    "i\\hbar\\frac{\\partial \\psi}{\\partial t}=-\\frac{\\hbar^2}{2 M}\\nabla^2 \\psi + V(\\mathbf{x}) \\psi\n",
    "\\end{equation}\n",
    "\n",
    "Simplifying the Schrödinger equation from two dimensions to one dimension\n",
    "\n",
    "\\begin{equation}\n",
    "i\\hbar\\frac{\\partial \\psi}{\\partial t}=-\\frac{\\hbar^2}{2 M}\\frac{\\partial^2 \\psi}{d x^2}\n",
    "\\end{equation}\n",
    "\n",
    "we obtain an equation very similar to the diffusion equation (Jupyter Notebook 03_03_1DDiffusion), in which there is a first order derivative in time, a second order derivative in space and a constant.\n",
    "\n",
    "\\begin{equation}\n",
    "\\frac{\\partial u}{\\partial t}= \\nu \\frac{\\partial^2 u}{\\partial x^2}\n",
    "\\end{equation}\n",
    "\n",
    "Therefore the only novelty is represented by the presence of complex numbers which will then have to be managed during the course of the simulation.\n"
   ]
  },
  {
   "cell_type": "code",
   "execution_count": 1,
   "id": "a0ab394e",
   "metadata": {},
   "outputs": [],
   "source": [
    "import sys\n",
    "import time as clock\n",
    "\n",
    "class ProgressBar:\n",
    "    \n",
    "    def __init__(self, total_iterations):\n",
    "        \n",
    "        self.total_iterations = total_iterations\n",
    "        self.current_iteration = 0\n",
    "        self.start_time = clock.time()\n",
    "        \n",
    "    def step(self):\n",
    "        \n",
    "        self.current_iteration += 1\n",
    "        self.show_progress()\n",
    "        if self.current_iteration == self.total_iterations:\n",
    "            self.end_time = clock.time()\n",
    "            print(f'\\Total time taken: {self.end_time -self.start_time} seconds')\n",
    "    \n",
    "    def show_progress(self):\n",
    "        \n",
    "        percent_complete = self.current_iteration / self.total_iterations\n",
    "        num_bars = int(percent_complete * 20)\n",
    "        sys.stdout.write('\\r')\n",
    "        sys.stdout.write(f\"Progress: [{'=' * num_bars}{' ' * (20 - num_bars)}]{int(percent_complete * 100)}%\")\n",
    "        sys.stdout.flush()\n",
    "    \n",
    "        "
   ]
  },
  {
   "cell_type": "code",
   "execution_count": 2,
   "id": "1a6b9773",
   "metadata": {},
   "outputs": [],
   "source": [
    "import numpy\n",
    "import sympy\n",
    "from sympy import init_printing\n",
    "init_printing()\n",
    "\n",
    "from matplotlib import pyplot\n",
    "%matplotlib inline\n",
    "from matplotlib import rcParams\n",
    "rcParams['font.family'] = 'serif'\n",
    "rcParams['font.size'] = 16\n",
    "\n",
    "#animation\n",
    "import matplotlib\n",
    "from matplotlib import animation\n",
    "from IPython.display import HTML\n",
    "\n",
    "from sympy.utilities.lambdify import lambdify"
   ]
  },
  {
   "cell_type": "markdown",
   "id": "2eed188c",
   "metadata": {},
   "source": [
    "## Assignment 0: write down code\n",
    "\n",
    "Write down a *structured* code (or a class) for simulating the time evolution of the waveform over time. The code should be written according to the following general specifications:\n",
    "* the state of the waveform should be represented by the values of the complex amplitude $\\psi$ defined using a complex `numpy` array. The size of the array should be a parameter for any function using the array. If using a class, clearly $\\Delta x$ could be a useful class element.\n",
    "* A method should allow setting the initial values in the array by means of a defined function, and the $\\Delta x$ value chosen for the discretization.\n",
    "* A method should allow evolving by one step the values of $\\psi$, taking as parameters the time step $\\Delta t$, the discretization step $\\Delta x$, the mass $M$ and a function $V(x)$ representing the potential.\n",
    "* A method should allow computing the probability distribution $P(x,t)$.\n",
    "* A method should allow plotting the probability distribution, and the real and imaginary parts of $\\psi$.\n",
    "* A method should allow integrating $P(x,t)$ over $d x$, for instance to check the normalization. \n",
    "\n",
    "Use zero boundary conditions: that is $\\psi=0$ at the boundary."
   ]
  },
  {
   "cell_type": "code",
   "execution_count": 3,
   "id": "6f935f87",
   "metadata": {},
   "outputs": [],
   "source": [
    "class QuantumTunnellingSimulator:\n",
    "    \n",
    "    def __init__(self, time, Delta_x, Delta_t ):\n",
    "       \n",
    "        self.e_mass       = 1e-30                          # mass of the electron\n",
    "        self.vg           = 1e-1                           # group speed (m/s)\n",
    "        self.momentum     = self.vg * self.e_mass          # momentum (kg * m/s) \n",
    "        self.plank_redux  = 1.054e-34                      # reduced Planck constant (J * s)\n",
    "        self.width0       = 2e-2                           # initial dispersion (m)\n",
    "\n",
    "        self.T            = time                           # simulation time (s)\n",
    "        self.dx           = Delta_x                        # space step (m)\n",
    "        self.dt           = Delta_t                        # time step\n",
    "        self.x_0          = 1e-1                           # starting position (m)\n",
    "        self.x_min        = 0                              # initial position (m)\n",
    "        self.x_max        = 1                              # final position (m)\n",
    "        self.nx           = int(self.x_max / self.dx) + 1  # number of grid points\n",
    "        self.nt           = int(self.T / self.dt)          # total time steps\n",
    "        \n",
    "        self.x_values     = numpy.linspace(self.x_min, self.x_max , self.nx) \n",
    "        \n",
    "        self.K            = (self.momentum**2) / (2 * self.e_mass)  # kinetic energy of the particles\n",
    "        self.v0           = numpy.array([0 * self.K, -2 * self.K, -1 * self.K, -1/2 * self.K,\n",
    "                                         1 * self.K, 1/2 * self.K, 2 * self.K])\n",
    "        \n",
    "        self.psi          = None\n",
    "        self.real_psi     = None\n",
    "        self.imag_psi     = None\n",
    "        self.probab_distr = None \n",
    "      \n",
    "    # FUNCTIONS REQUIRED BY: ASSIGNMENT_0: WRITE DOWN CODE\n",
    "    \n",
    "    # method to set the initial values of wavefunction\n",
    "    def initialize_wavefunction(self, x, x0, sigma0, p0, h):\n",
    "        \n",
    "        wave_packet = sympy.exp(-((x-x0)**2 / (4 * sigma0**2))) / sympy.sqrt(sympy.sqrt(2 * sympy.pi) * sigma0) \n",
    "        exponential = sympy.exp((p0 * 1j * (x-x0)/ h))\n",
    "        wave        = wave_packet * exponential\n",
    "        wave_lamb   = lambdify((x0, x, p0, sigma0, h), wave)\n",
    "        \n",
    "        self.psi    = numpy.asarray([wave_lamb(self.x_0, x, self.momentum, self.width0, self.plank_redux) \n",
    "                                     for x in self.x_values])\n",
    "        \n",
    "    # method to evolving by one step the values of psi\n",
    "    def evolve_one_step(self, dt, dx, v):\n",
    "    \n",
    "        un       = numpy.empty(self.nx)\n",
    "        en       = numpy.empty(self.nx)\n",
    "    \n",
    "        self.real_psi = numpy.real(self.psi)\n",
    "        self.imag_psi = numpy.imag(self.psi)\n",
    "        \n",
    "        #real part\n",
    "        en = self.imag_psi.copy()\n",
    "        self.real_psi[1:-1] +=  - (self.plank_redux / (2 * self.e_mass)) * dt / \\\n",
    "                               dx**2*(en[2:] - 2*en[1:-1] + en[0:-2]) \\\n",
    "                               + (dt / self.plank_redux) * v[1:-1] * en[1:-1]\n",
    "        #At the boundary\n",
    "        self.real_psi[0]    = 0\n",
    "        self.real_psi[-1]   = 0\n",
    "    \n",
    "        #imaginary part\n",
    "        un = self.real_psi.copy()   \n",
    "        self.imag_psi[1:-1] +=  (self.plank_redux / (2 * self.e_mass)) * dt / \\\n",
    "                                dx**2*(un[2:] - 2*un[1:-1] + un[0:-2]) \\\n",
    "                                - (dt / self.plank_redux) * v[1:-1] * un[1:-1]\n",
    "        #At the boundary    \n",
    "        self.imag_psi[0]    = 0\n",
    "        self.imag_psi[-1]   = 0  \n",
    "    \n",
    "    # method to calculate probability distribution\n",
    "    def probability_distribution(self):\n",
    "        self.psi = self.real_psi + 1j * self.imag_psi\n",
    "        self.probab_distr = abs(self.psi)**2\n",
    "        \n",
    "    # method to plotting probability distribution, and the real and imaginary part of psi\n",
    "    def plot_wavefunction(self):\n",
    "        pyplot.plot(self.x_values, self.probab_distr, color='#003366', ls='-', lw=3)\n",
    "        pyplot.plot(self.x_values, self.real_psi, color='#003366', ls='-', lw=3)\n",
    "        pyplot.plot(self.x_values, self.imag_psi, color='#003366', ls='-', lw=3)\n",
    "    \n",
    "    # method to integrating probability distribution over dx       \n",
    "    def integrate_probability_distribution(self):\n",
    "        return numpy.sum(self.probab_distr) * (self.x_values[1] - self.x_values[0])\n",
    "        \n",
    "    \n",
    "    #---------------------------------------------------------------------------additional methods\n",
    "    \n",
    "    # methode to initialize wavefunction with modified amplitude\n",
    "    def initialize_wavefunction_amplitude(self, x, x0, sigma0, p0, h, t, M, amplitude):\n",
    "        \n",
    "        wave_packet = sympy.exp(-((x-x0)**2 / (4 * sigma0**2))) / sympy.sqrt(sympy.sqrt(2 * sympy.pi) * sigma0) \n",
    "        exponential = sympy.exp((p0 * 1j * (x-x0)/ h))\n",
    "        wave        = amplitude * wave_packet * exponential\n",
    "        wave_lamb   = lambdify((x0, x, p0, sigma0, h), wave)\n",
    "        \n",
    "        self.psi    = numpy.asarray([wave_lamb(self.x_0, x, self.momentum, self.width0, self.plank_redux) \n",
    "                                     for x in self.x_values])\n",
    "    \n",
    "    # method to initialize the exact probability of distribution\n",
    "    def initialize_distribution_exact(self, x, x0, sigma0, p0, h, t, M):\n",
    "        return sigma0 / sympy.sqrt(2 * sympy.pi) * sympy.exp(-(sigma0**2 * (x - ((p0 * t) / M))**2) / \\\n",
    "               (2 * ( sigma0**4 + (t**2 * h**2) / (4 * M**2) ))) / sympy.sqrt(sigma0**4 + (t**2 * h**2) / (4 * M**2) ) \n",
    "    \n",
    "    # method to simulate the exact probability of distribution\n",
    "    def simulate_distribuition_exact(self, distribution_exact, x, x0, sigma0, p0, h, dt, t , M, num_steps):\n",
    "        distrib_ex_lamb = lambdify((x0, x, p0, sigma0, h, t , M), distribution_exact)\n",
    "        return numpy.asarray([distrib_ex_lamb(self.x_0, x, self.momentum, self.width0, self.plank_redux,\n",
    "                              num_steps * dt, self.e_mass) for x in self.x_values])\n",
    "    \n",
    "    # method to plotting probability of distribution\n",
    "    def plot_distribuition_exact(self, distribution_exact):\n",
    "        pyplot.plot(self.x_values, distribution_exact, color='r', ls='--', lw=2)\n",
    "    \n",
    "    def plot_psi(self):\n",
    "        pyplot.plot(self.x_values, abs(self.psi)**2, color='#003366',  ls='-', lw=2)\n",
    "    \n",
    "    # method to setting potential energy \n",
    "    def set_potential(self, num_potential):\n",
    "        v = numpy.ones(self.nx) \n",
    "        v[numpy.intersect1d(numpy.where(self.x_values >= 5.0 * 10**-1), \n",
    "                            numpy.where(self.x_values <= 5.5 * 10**-1))] = self.v0[num_potential]\n",
    "    \n",
    "        v[numpy.where( self.x_values < 5.0 * 10**-1 )] = 0\n",
    "        v[numpy.where( self.x_values > 5.5 * 10**-1 )] = 0\n",
    "        \n",
    "        return v  \n",
    "    \n",
    "    # method to plotting potential energy\n",
    "    def plot_potential(self, potential):\n",
    "        pyplot.plot(self.x_values, potential, color='#003366', ls='-', lw=2)\n",
    "    \n",
    "    # set time simulation\n",
    "    def set_time(self, time):\n",
    "        self.T = time\n",
    "        \n",
    "    # set number of steps \n",
    "    def set_num_steps(self, steps):\n",
    "        self.nt = steps\n",
    "        "
   ]
  },
  {
   "cell_type": "code",
   "execution_count": null,
   "id": "e62daa4c",
   "metadata": {},
   "outputs": [],
   "source": [
    "time      = 0                    \n",
    "Delta_x   = 1e-4                  \n",
    "Delta_t   = 9e-5   \n",
    "num_steps = int(time / Delta_t)  \n",
    "x, x0, sigma0, p0, h, t, M = sympy.symbols('x x0 sigma0 p0 h t M')\n",
    "\n",
    "# let's build the QuantumTunnellingSimulator object\n",
    "simulator = QuantumTunnellingSimulator(time, Delta_x, Delta_t)"
   ]
  },
  {
   "cell_type": "markdown",
   "id": "d2bcfc69",
   "metadata": {},
   "source": [
    "## Exact solution for $V=0$\n",
    "\n",
    "By reducing the Schrödinger equation\n",
    "\n",
    "\\begin{equation}\n",
    "i\\hbar\\frac{\\partial \\psi}{\\partial t}=-\\frac{\\hbar^2}{2 M}\\frac{\\partial^2 \\psi}{d x^2}\n",
    "\\end{equation}\n",
    "\n",
    "it can be shown that the solution takes the following form:\n",
    "\n",
    "\\begin{equation}\n",
    "\\psi(x, t)=\\sqrt{\\frac{\\sigma_0}{\\sqrt{2\\pi}}}\\left[\\frac{\\exp \\left(-\\frac{\\left(x-\\frac{p_0 t}{M}\\right)^2}{4 \\left(\\sigma_0^2+\\frac{i t \\hbar }{2 M}\\right)}\\right)}{\\sqrt{\\left(\\sigma_0^2+\\frac{i t \\hbar }{2 M}\\right)}}\\right]\\exp\\left(\\frac{i \\left(p_0 x-\\frac{p_0^2 t}{2 M}\\right)}{\\hbar}\\right)\n",
    "\\end{equation}\n",
    "\n",
    "\n",
    "However, since we are directly interested in drawing the square modulus of the wave, we use this modulus directly here\n",
    "\n",
    "\\begin{equation}\n",
    "P(x,t)=\\left|\\psi(x,t)\\right|^2=\\frac{\\sigma_0}{\\sqrt{2\\pi}}\\frac{\\exp \\left(-\\frac{ \\sigma_0^2\n",
    "    (x -\\frac{p_0 t}{M})^2}{2 \\left(\\sigma_0^4 +\\frac{t^2 \\hbar^2}{4 M^2}\\right)}\\right) }{\\sqrt{\\sigma_0^4+\\frac{t^2 \\hbar^2}{4 M^2}}}\n",
    "\\end{equation}\n",
    "\n",
    "which represents the probability of a particle being at position $x$.\n"
   ]
  },
  {
   "cell_type": "code",
   "execution_count": null,
   "id": "b31e2c7e",
   "metadata": {},
   "outputs": [],
   "source": [
    "# a) visualize the analytical solution at time t = 0\n",
    "analytic_distribution = simulator.initialize_distribution_exact(x, x0, sigma0, p0, h, t, M)\n",
    "distribution_exact    = simulator.simulate_distribuition_exact(analytic_distribution, x, x0, sigma0, p0, h, Delta_t, t , M, int((time + 1)/ Delta_t))\n",
    "simulator.plot_distribuition_exact(distribution_exact)"
   ]
  },
  {
   "cell_type": "markdown",
   "id": "b860c370",
   "metadata": {},
   "source": [
    "### Initial and Boundary Conditions\n",
    "\n",
    "The initial conditions of the function for the case $V=0$ are given by the following analytical solution:\n",
    "\n",
    "\\begin{equation}\n",
    "\\psi(x, t)=\\left[\\frac{\\exp \\left(-\\frac{(x-x_0)^2}{4 \\sigma_0^2}\\right)}{\\sqrt[4]{2\\pi}\\sqrt{\\sigma_0}}\\right]\\exp\\left(\\frac{i\\,p_0 \\left(x-x_0\\right)}{\\hbar}\\right)\n",
    "\\end{equation}\n",
    "\n",
    "we use zero boundary conditions: that is $\\psi=0$ at the boundary."
   ]
  },
  {
   "cell_type": "code",
   "execution_count": null,
   "id": "c1808a21",
   "metadata": {},
   "outputs": [],
   "source": [
    "# b) display the numerical solution at time t = 0\n",
    "\n",
    "simulator.initialize_wavefunction(x, x0, sigma0, p0, h)\n",
    "simulator.plot_psi()"
   ]
  },
  {
   "cell_type": "code",
   "execution_count": null,
   "id": "71ce03e6",
   "metadata": {},
   "outputs": [],
   "source": [
    "# let's see them both\n",
    "simulator.plot_distribuition_exact(distribution_exact)\n",
    "simulator.plot_psi()"
   ]
  },
  {
   "cell_type": "code",
   "execution_count": null,
   "id": "fea5fc43",
   "metadata": {},
   "outputs": [],
   "source": [
    "# c) let us compare the numerical and analytical solution at time t = 8 in a single graph \n",
    "\n",
    "# let's set the initial values\n",
    "time      = 8\n",
    "num_steps = int(time / Delta_t)\n",
    "num_v0    = 0\n",
    "simulator.set_time(time)\n",
    "simulator.set_num_steps(num_steps)\n",
    "potential = simulator.set_potential(num_v0)"
   ]
  },
  {
   "cell_type": "markdown",
   "id": "68fcd4af",
   "metadata": {},
   "source": [
    "## Simulating in time\n",
    "\n",
    "We will try to simulate the evolution of the waveform using a simple forward difference in time, and a central scheme in space: in other words, we will introduce the following two approximations\n",
    "\n",
    "\\begin{eqnarray}\n",
    "\\frac{\\partial\\psi(x,t)}{\\partial t} &\\simeq& \\frac{\\psi(x,t+\\Delta t) - \\psi(x,t)}{\\Delta t}\\\\\n",
    "\\frac{\\partial^2\\psi(x,t)}{\\partial x^2} &\\simeq& \\frac{\\psi(x+\\Delta x,t) - 2 \\psi(x,t) + \\psi(x-\\Delta x, t)}{\\left(\\Delta x\\right)^2}\n",
    "\\end{eqnarray}\n",
    "\n",
    "Now, we write two separate, coupled equations for the real and imaginary parts\n",
    "\n",
    "\\begin{equation}\n",
    "\\psi(x,t) = \\psi_R(x,t) + i \\psi_I(x,t)\n",
    "\\end{equation}\n",
    "\n",
    "hence\n",
    "\n",
    "\\begin{eqnarray}\n",
    "\\hbar \\frac{\\partial\\psi_R(x,t)}{\\partial t} &=& -\\frac{\\hbar^2}{2 M}\\frac{\\partial^2\\psi_I(x,t)}{\\partial x^2} + V(x)\\psi_I(x,t)\\\\\n",
    "\\hbar \\frac{\\partial\\psi_I(x,t)}{\\partial t} &=& +\\frac{\\hbar^2}{2 M}\\frac{\\partial^2\\psi_R(x,t)}{\\partial x^2} - V(x)\\psi_R(x,t)\\ .\n",
    "\\end{eqnarray}"
   ]
  },
  {
   "cell_type": "markdown",
   "id": "c9cf1c0a",
   "metadata": {},
   "source": [
    "Let's take a \"step back\". Let's start again from the Schrödinger equation.\n",
    "\n",
    "\\begin{equation}\n",
    "i\\hbar\\frac{\\partial \\psi}{\\partial t}=-\\frac{\\hbar^2}{2 M}\\frac{\\partial^2 \\psi}{d x^2}\n",
    "\\end{equation}\n",
    "\n",
    "To get the next time step, we solve the given differential equation using the finite difference method explicitly. So be it ($V(\\mathbf{x}) = 0$):\n",
    "\n",
    "\\begin{equation}\n",
    "i\\hbar\\frac{\\psi_{i}^{n+1}-\\psi_{i}^{n}}{\\Delta t}=-\\frac{\\hbar^2}{2 M}\\frac{\\psi_{i+1}^{n}-2\\psi_{i}^{n}+\\psi_{i-1}^{n}}{\\Delta x^2}\n",
    "\\end{equation}\n",
    "\n",
    "To get the next time step $\\psi_{i}^{n+1}$, we can solve the equation as follows:\n",
    "\n",
    "\\begin{equation}\n",
    "\\psi_{i}^{n+1} = \\psi_{i}^{n}-\\frac{i\\hbar\\Delta t}{2M\\Delta x^2}(\\psi_{i+1}^{n}-2\\psi_{i}^{n}+\\psi_{i-1}^{n})\n",
    "\\end{equation}\n"
   ]
  },
  {
   "cell_type": "markdown",
   "id": "8bac5202",
   "metadata": {},
   "source": [
    "Now let's rewrite the real and imaginary part of $\\psi$ following the same reasoning:\n",
    "\n",
    "\\begin{equation}\n",
    "\\psi_{R,i}^{n+1} = \\psi_{R,i}^{n}-\\frac{\\hbar\\Delta t}{2M\\Delta x^2}(\\psi_{I,i+1}^{n}-2\\psi_{I,i}^{n}+\\psi_{I,i-1}^{n})\n",
    "\\\\\n",
    "\\psi_{I,i}^{n+1} = \\psi_{I,i}^{n}+\\frac{\\hbar\\Delta t}{2M\\Delta x^2}(\\psi_{R,i+1}^{n}-2\\psi_{R,i}^{n}+\\psi_{R,i-1}^{n})\n",
    "\\end{equation}\n"
   ]
  },
  {
   "cell_type": "markdown",
   "id": "260f3042",
   "metadata": {},
   "source": [
    "To make the implementation more efficient we can manipulate the system of equations like this:\n",
    "\n",
    "\\begin{equation}\n",
    "\\psi_{R,i}^{n+1} = \\psi_{R,i}^{n}-\\frac{\\hbar\\Delta t}{2M\\Delta x^2}(\\psi_{I,i}^{n + 1}-2\\psi_{I,i}^{n}+\\psi_{I,i-1}^{n})\n",
    "\\\\\n",
    "\\psi_{I,i}^{n+1} = \\psi_{I,i}^{n}+\\frac{\\hbar\\Delta t}{2M\\Delta x^2}(\\psi_{R,i+1}^{n + 1}-2\\psi_{R,i}^{n + 1}+\\psi_{R,i-1}^{n + 1})\n",
    "\\end{equation}\n"
   ]
  },
  {
   "cell_type": "code",
   "execution_count": null,
   "id": "a99060c3",
   "metadata": {},
   "outputs": [],
   "source": [
    "analytic_distribution = simulator.initialize_distribution_exact(x, x0, sigma0, p0, h, t, M)\n",
    "distribution_exact    = simulator.simulate_distribuition_exact(analytic_distribution, x, x0, sigma0, p0, h, Delta_t, t , M, int((time + 1)/ Delta_t))\n",
    "simulator.initialize_wavefunction(x, x0, sigma0, p0, h)\n",
    "\n",
    "pb = ProgressBar(num_steps)\n",
    "for n in range(num_steps):\n",
    "    simulator.evolve_one_step(Delta_t, Delta_x, potential)\n",
    "    pb.step()"
   ]
  },
  {
   "cell_type": "code",
   "execution_count": null,
   "id": "1d636e4d",
   "metadata": {},
   "outputs": [],
   "source": [
    "simulator.plot_distribuition_exact(distribution_exact)\n",
    "simulator.plot_psi()"
   ]
  },
  {
   "cell_type": "markdown",
   "id": "d01f4b3e",
   "metadata": {},
   "source": [
    "# Be ware CFL\n",
    "\n",
    "In choosing the time step $\\Delta t$ we have considered a number lower than 1e-4, ie the size of the space step $\\Delta x$. In this way the stability of the simulation is guaranteed and there is no risk that the numerical solution will explode! However, a size of the time step that is not too \"narrow\" has been chosen so as not to increase the computation cycles."
   ]
  },
  {
   "cell_type": "code",
   "execution_count": null,
   "id": "e60a4489",
   "metadata": {},
   "outputs": [],
   "source": [
    "# d) simulate the numerical solution up to t = 8 (v_0 = 0)\n",
    "simulator.initialize_wavefunction(x, x0, sigma0, p0, h)"
   ]
  },
  {
   "cell_type": "code",
   "execution_count": null,
   "id": "4252649a",
   "metadata": {},
   "outputs": [],
   "source": [
    "fig = pyplot.figure(figsize=(8,5))\n",
    "ax = pyplot.axes(xlim=(0,1), ylim=(-6,20))\n",
    "line  = ax.plot([], [], color='r', ls='-', lw=3, label='square module of psi')[0]\n",
    "line1 = ax.plot([], [], color='#008000', ls='-', lw=1, label='real psi')[0]\n",
    "line2 = ax.plot([], [], color='#FFA500', ls='-', lw=0.5, label='imaginary psi')[0]\n",
    "pyplot.legend(fontsize= 7);"
   ]
  },
  {
   "cell_type": "code",
   "execution_count": null,
   "id": "51e6ca03",
   "metadata": {},
   "outputs": [],
   "source": [
    "steps_cutter = 1111\n",
    "def wave(n):\n",
    "    \n",
    "    pb = ProgressBar(steps_cutter)\n",
    "    for n in range(steps_cutter):\n",
    "        simulator.evolve_one_step(Delta_t, Delta_x, potential)\n",
    "        pb.step()\n",
    "    \n",
    "    p = simulator.real_psi + 1j * simulator.imag_psi\n",
    "    line.set_data(simulator.x_values, abs(simulator.psi)**2)\n",
    "    line1.set_data(simulator.x_values, simulator.real_psi)\n",
    "    line2.set_data(simulator.x_values, simulator.imag_psi)\n",
    "    "
   ]
  },
  {
   "cell_type": "code",
   "execution_count": null,
   "id": "be5e518e",
   "metadata": {},
   "outputs": [],
   "source": [
    "anim = animation.FuncAnimation(fig, wave,\n",
    "                               frames=80, interval=100)"
   ]
  },
  {
   "cell_type": "code",
   "execution_count": null,
   "id": "d9197d25",
   "metadata": {},
   "outputs": [],
   "source": [
    "HTML(anim.to_jshtml())"
   ]
  },
  {
   "cell_type": "markdown",
   "id": "10b30ad0",
   "metadata": {},
   "source": [
    "# Check convergence\n",
    "\n",
    "To compare solutions, we will use the distance between them normalized by the norm of the exact solution, as follows\n",
    "\n",
    "\\begin{equation}\n",
    "error = \\frac{||{\\Psi - \\Psi_{exact}}||_2}{||\\Psi_{exact}||_2}\n",
    "\\end{equation}"
   ]
  },
  {
   "cell_type": "code",
   "execution_count": null,
   "id": "ff42b57d",
   "metadata": {},
   "outputs": [],
   "source": [
    "# e) view the graph for L2_norm\n",
    "\n",
    "def L2_error(Psi, Psi_exact):\n",
    "    \"\"\"Computes L2 norm of error\n",
    "    \n",
    "    Parameters:\n",
    "    ----------\n",
    "    Psi      : array of complex\n",
    "        array with numerical solution\n",
    "    Psi_exact: array of complex\n",
    "        array with exact solution\n",
    "    Returns:\n",
    "    -------\n",
    "    error: L2 norm of error\n",
    "    \"\"\"\n",
    "    \n",
    "    error = numpy.sqrt(numpy.sum((Psi-Psi_exact)**2)/numpy.sum(Psi_exact**2))\n",
    "    \n",
    "    return abs(error)"
   ]
  },
  {
   "cell_type": "code",
   "execution_count": null,
   "id": "15285874",
   "metadata": {},
   "outputs": [],
   "source": [
    "def check_convergence(T, dt_values, nt_values, psi_ex, V, x, x0, sigma0, p0, h, t, M):\n",
    "\n",
    "    dt_values = dt_values\n",
    "    nt_values = nt_values\n",
    "    \n",
    "    error = numpy.zeros(len(dt_values))\n",
    "    \n",
    "    for i, dt in enumerate(dt_values):\n",
    "        \n",
    "        # Let us set the initial conditions of the numerical solution\n",
    "        simulator.initialize_wavefunction(x, x0, sigma0, p0, h)\n",
    "    \n",
    "        # we compute the numerical solution\n",
    "        pb = ProgressBar(int(nt_values[i]))\n",
    "        for n in range(int(nt_values[i])):\n",
    "            simulator.evolve_one_step(dt, Delta_x, V)\n",
    "            pb.step()\n",
    "    \n",
    "        # we compute the analytical solution\n",
    "        Psi_exact = simulator.simulate_distribuition_exact(psi_ex, x, x0, sigma0, p0, h, dt, \n",
    "                                                           t , M, ( (T + 1) / dt) + 1)\n",
    "        \n",
    "        error[i] = L2_error(simulator.psi, Psi_exact)\n",
    "        \n",
    "    return error"
   ]
  },
  {
   "cell_type": "code",
   "execution_count": null,
   "id": "c8a20b1a",
   "metadata": {},
   "outputs": [],
   "source": [
    "time      = 1                    \n",
    "num_steps = int(time / Delta_t)\n",
    "\n",
    "simulator.set_time(time)                      # we reset the simulation time\n",
    "simulator.set_num_steps(num_steps)            # we reset the number of total time steps\n",
    "\n",
    "num_v0    = 0\n",
    "potential = simulator.set_potential(num_v0)\n",
    "dt_values = numpy.asarray([9e-5, 8e-5, 7e-5, 9e-6])    \n",
    "nt_values = time / dt_values\n",
    "\n",
    "# let's initialize the distribution function\n",
    "distribution = simulator.initialize_distribution_exact(x, x0, sigma0, p0, h, t, M) \n",
    "\n",
    "# let's initialize the wave function to be simulated\n",
    "simulator.initialize_wavefunction(x, x0, sigma0, p0, h)\n",
    "\n",
    "# let's check the convergence...\n",
    "error = check_convergence(time, dt_values, nt_values, distribution, potential, x, x0, sigma0, p0, h, t, M)"
   ]
  },
  {
   "cell_type": "code",
   "execution_count": null,
   "id": "1e19b0ed",
   "metadata": {},
   "outputs": [],
   "source": [
    "pyplot.figure(figsize=(12,12))\n",
    "pyplot.grid(True)\n",
    "pyplot.xlabel(r'$\\Delta t$', fontsize=18)\n",
    "pyplot.ylabel(r'$L_2$-norm of the error', fontsize=18)\n",
    "pyplot.loglog(nt_values, error, color='k', ls='--', lw=2, marker='o')\n",
    "pyplot.legend(['FTCS']);"
   ]
  },
  {
   "cell_type": "markdown",
   "id": "38c3ec08",
   "metadata": {},
   "source": [
    "## Assignment 2: use the code for $V\\neq 0$\n",
    "\n",
    "Now that we are confident that our code is not wrong, we carry out the same simulation as before, but this time introducing a non-zero potential, which has the following shape\n",
    "\n",
    "\\begin{eqnarray}\n",
    "V(x) = 0\\quad &\\textrm{for}& x \\in [0.0, 5.0\\times 10^{-1} m)\\\\\n",
    "V(x) = V_0\\quad &\\textrm{for}& x \\in [5.0\\times 10^{-1} m, 5.5\\times 10^{-1} m]\\\\\n",
    "V(x) = 0\\quad &\\textrm{for}& x \\in (5.5\\times 10^{-1} m, 1 m]\n",
    "\\end{eqnarray}\n",
    "\n",
    "To choose the value of $V_0$, let us point out that the kinetic energy of our particle, which is coming from the left side, is\n",
    "\n",
    "\\begin{equation}\n",
    "E_0\\sim \\frac{p_0^2}{2 M} \\simeq 5\\times 10^{-33} J \n",
    "\\end{equation}\n",
    "\n",
    "Now we want to see what happens for different values of $V_0$, say for\n",
    "1. $V_0 = - 2\\,E_0$\n",
    "2. $V_0 = - E_0$\n",
    "3. $V_0 = - \\frac{1}{2} E_0$\n",
    "4. $V_0 = + E_0$\n",
    "5. $V_0 = + \\frac{1}{2} E_0$\n",
    "6. $V_0 = + 2\\,E_0$"
   ]
  },
  {
   "cell_type": "code",
   "execution_count": null,
   "id": "45840d25",
   "metadata": {},
   "outputs": [],
   "source": [
    "# f) view the wave function plot for all types of potential barriers\n",
    "\n",
    "# let's set the initial\n",
    "time      = 8\n",
    "num_steps = int(time / Delta_t)\n",
    "num_v0    = 1\n",
    "simulator.set_time(time)\n",
    "simulator.set_num_steps(num_steps)\n",
    "potential = simulator.set_potential(num_v0)"
   ]
  },
  {
   "cell_type": "code",
   "execution_count": null,
   "id": "fedd5754",
   "metadata": {},
   "outputs": [],
   "source": [
    "amplitude = 2.1e-17\n",
    "simulator.initialize_wavefunction_amplitude(x, x0, sigma0, p0, h, t, M, amplitude)"
   ]
  },
  {
   "cell_type": "code",
   "execution_count": null,
   "id": "6c9473e0",
   "metadata": {},
   "outputs": [],
   "source": [
    "fig = pyplot.figure(figsize=(8,5))\n",
    "simulator.plot_potential\n",
    "ax = pyplot.axes(xlim=(0,1), ylim=(-1.5e-32,2e-32))\n",
    "pyplot.plot(simulator.x_values, potential, color='r', ls='-', lw=2)\n",
    "line  = ax.plot([], [], color='#003366', ls='-', lw=3)[0]"
   ]
  },
  {
   "cell_type": "code",
   "execution_count": null,
   "id": "d1b29c89",
   "metadata": {},
   "outputs": [],
   "source": [
    "slice_steps = 1111\n",
    "def wave(n):\n",
    "    \n",
    "    pb = ProgressBar(slice_steps)\n",
    "    for n in range(slice_steps):\n",
    "        simulator.evolve_one_step(Delta_t, Delta_x, potential)\n",
    "        pb.step()\n",
    "    \n",
    "    p = simulator.real_psi + 1j * simulator.imag_psi\n",
    "    line.set_data(simulator.x_values, abs(simulator.psi)**2)"
   ]
  },
  {
   "cell_type": "code",
   "execution_count": null,
   "id": "b1cd250e",
   "metadata": {},
   "outputs": [],
   "source": [
    "anim = animation.FuncAnimation(fig, wave,\n",
    "                               frames=80, interval=100)"
   ]
  },
  {
   "cell_type": "code",
   "execution_count": null,
   "id": "2d2e687d",
   "metadata": {},
   "outputs": [],
   "source": [
    "HTML(anim.to_jshtml())"
   ]
  },
  {
   "cell_type": "code",
   "execution_count": null,
   "id": "fa23a341",
   "metadata": {},
   "outputs": [],
   "source": [
    "def wave_animation(time, frames, slice_steps, num_v0, amplitude):\n",
    "    # let's set the initial\n",
    "    time      = time\n",
    "    Delta_t   = 9e-5  \n",
    "    num_steps = int(time / Delta_t)\n",
    "    num_v0    = num_v0\n",
    "    simulator.set_time(time)\n",
    "    simulator.set_num_steps(num_steps)\n",
    "    potential = simulator.set_potential(num_v0)\n",
    "    \n",
    "    simulator.initialize_wavefunction_amplitude(x, x0, sigma0, p0, h, t, M, amplitude)\n",
    "    \n",
    "    fig = pyplot.figure(figsize=(8,5))\n",
    "    simulator.plot_potential\n",
    "    ax = pyplot.axes(xlim=(0,1), ylim=(-1.5e-32,2e-32))\n",
    "    pyplot.plot(simulator.x_values, potential, color='r', ls='-', lw=2)\n",
    "    line  = ax.plot([], [], color='#003366', ls='-', lw=3)[0]\n",
    "    \n",
    "    slice_steps = slice_steps\n",
    "    def wave(n):\n",
    "    \n",
    "        pb = ProgressBar(slice_steps)\n",
    "        for n in range(slice_steps):\n",
    "            simulator.evolve_one_step(Delta_t, Delta_x, potential)\n",
    "            pb.step()\n",
    "    \n",
    "        p = simulator.real_psi + 1j * simulator.imag_psi\n",
    "        line.set_data(simulator.x_values, abs(simulator.psi)**2)\n",
    "    \n",
    "    return animation.FuncAnimation(fig, wave,\n",
    "                                   frames=frames, interval=100)"
   ]
  },
  {
   "cell_type": "code",
   "execution_count": null,
   "id": "33559116",
   "metadata": {},
   "outputs": [],
   "source": [
    "HTML(wave_animation(8, 80, 1111, 0, 2.1e-17).to_jshtml())"
   ]
  },
  {
   "cell_type": "code",
   "execution_count": null,
   "id": "100e22ab",
   "metadata": {},
   "outputs": [],
   "source": [
    "HTML(wave_animation(8, 80, 1111, 1, 2.1e-17).to_jshtml())"
   ]
  },
  {
   "cell_type": "code",
   "execution_count": null,
   "id": "f84e5e28",
   "metadata": {},
   "outputs": [],
   "source": [
    "HTML(wave_animation(8, 80, 1111, 2, 2.1e-17).to_jshtml())"
   ]
  },
  {
   "cell_type": "code",
   "execution_count": null,
   "id": "30f03ae2",
   "metadata": {},
   "outputs": [],
   "source": [
    "HTML(wave_animation(8, 80, 1111, 3, 2.1e-17).to_jshtml())"
   ]
  },
  {
   "cell_type": "code",
   "execution_count": null,
   "id": "aa4e2ade",
   "metadata": {},
   "outputs": [],
   "source": [
    "HTML(wave_animation(8, 80, 1111, 4, 2.1e-17).to_jshtml())"
   ]
  },
  {
   "cell_type": "code",
   "execution_count": null,
   "id": "76d9602c",
   "metadata": {},
   "outputs": [],
   "source": [
    "HTML(wave_animation(8, 80, 1111, 5, 2.1e-17).to_jshtml())"
   ]
  },
  {
   "cell_type": "code",
   "execution_count": null,
   "id": "5758f83e",
   "metadata": {},
   "outputs": [],
   "source": [
    "HTML(wave_animation(8, 80, 1111, 6, 2.1e-17).to_jshtml())"
   ]
  },
  {
   "cell_type": "markdown",
   "id": "cdd5f689",
   "metadata": {},
   "source": [
    "# Integral of square modulus\n",
    "\n",
    "Since the particle must be somewhere, for $P$ to be a true probability it is necessary that its integral over the whole space is $1$: for instance, in 1D one should have\n",
    "\n",
    "\\begin{equation}\n",
    "\\int_{-\\infty}^{+\\infty} P(x, t) d x = 1\n",
    "\\end{equation}"
   ]
  },
  {
   "cell_type": "code",
   "execution_count": null,
   "id": "f95345a7",
   "metadata": {},
   "outputs": [],
   "source": [
    "# g) integral of the square modulus\n",
    "\n",
    "# let's set the initial values\n",
    "time      = 8\n",
    "num_steps = int(time / Delta_t)\n",
    "num_v0    = 0\n",
    "simulator.set_time(time)\n",
    "simulator.set_num_steps(num_steps)\n",
    "potential = simulator.set_potential(num_v0)"
   ]
  },
  {
   "cell_type": "code",
   "execution_count": null,
   "id": "01c52b49",
   "metadata": {},
   "outputs": [],
   "source": [
    "simulator.initialize_wavefunction(x, x0, sigma0, p0, h)\n",
    "\n",
    "pb = ProgressBar(num_steps)\n",
    "for n in range(num_steps):\n",
    "    simulator.evolve_one_step(Delta_t, Delta_x, potential)\n",
    "    pb.step()"
   ]
  },
  {
   "cell_type": "code",
   "execution_count": null,
   "id": "839d3af3",
   "metadata": {},
   "outputs": [],
   "source": [
    "simulator.probability_distribution()\n",
    "integrale = simulator.integrate_probability_distribution()\n",
    "print(\"The integral of the square modulus of the function is: \", integrale)"
   ]
  }
 ],
 "metadata": {
  "kernelspec": {
   "display_name": "Python 3 (ipykernel)",
   "language": "python",
   "name": "python3"
  },
  "language_info": {
   "codemirror_mode": {
    "name": "ipython",
    "version": 3
   },
   "file_extension": ".py",
   "mimetype": "text/x-python",
   "name": "python",
   "nbconvert_exporter": "python",
   "pygments_lexer": "ipython3",
   "version": "3.9.13"
  }
 },
 "nbformat": 4,
 "nbformat_minor": 5
}
